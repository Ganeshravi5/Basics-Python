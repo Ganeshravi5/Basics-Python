{
 "cells": [
  {
   "cell_type": "code",
   "execution_count": 3,
   "id": "e0c94f25-b4e9-48ed-856d-2845105d6772",
   "metadata": {},
   "outputs": [],
   "source": [
    "I=[2,3,4,5+6j]"
   ]
  },
  {
   "cell_type": "code",
   "execution_count": 4,
   "id": "831e4330-777f-4101-a9e2-fbed3b3ef109",
   "metadata": {},
   "outputs": [
    {
     "data": {
      "text/plain": [
       "list"
      ]
     },
     "execution_count": 4,
     "metadata": {},
     "output_type": "execute_result"
    }
   ],
   "source": [
    "type(I)"
   ]
  },
  {
   "cell_type": "code",
   "execution_count": null,
   "id": "afc545d6-e08f-4e16-907b-22d47a090ec2",
   "metadata": {},
   "outputs": [],
   "source": []
  }
 ],
 "metadata": {
  "kernelspec": {
   "display_name": "Python 3 (ipykernel)",
   "language": "python",
   "name": "python3"
  },
  "language_info": {
   "codemirror_mode": {
    "name": "ipython",
    "version": 3
   },
   "file_extension": ".py",
   "mimetype": "text/x-python",
   "name": "python",
   "nbconvert_exporter": "python",
   "pygments_lexer": "ipython3",
   "version": "3.10.6"
  }
 },
 "nbformat": 4,
 "nbformat_minor": 5
}
